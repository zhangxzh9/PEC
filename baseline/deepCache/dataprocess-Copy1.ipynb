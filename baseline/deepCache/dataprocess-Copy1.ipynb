{
 "cells": [
  {
   "cell_type": "code",
   "execution_count": 1,
   "metadata": {},
   "outputs": [],
   "source": [
    "import torch\n",
    "import torch.nn as nn\n",
    "import torch.optim as optim\n",
    "\n",
    "from torchtext.datasets import Multi30k\n",
    "from torchtext.data import Field, BucketIterator\n",
    "\n",
    "#import spacy\n",
    "import numpy as np\n",
    "\n",
    "import random\n",
    "import math\n",
    "import time\n",
    "\n",
    "\n",
    "import pandas as pd"
   ]
  },
  {
   "cell_type": "code",
   "execution_count": 2,
   "metadata": {},
   "outputs": [],
   "source": [
    "np.set_printoptions(threshold=3000)  \n",
    "np.set_printoptions(linewidth=170)\n",
    "\n",
    "data_path = '/home/zhangxz/workspace/data/R1584_U50_V2/UIT.csv'\n",
    "\n",
    "UIT = pd.read_csv(data_path,header=None)"
   ]
  },
  {
   "cell_type": "code",
   "execution_count": 3,
   "metadata": {},
   "outputs": [
    {
     "name": "stdout",
     "output_type": "stream",
     "text": [
      "<bound method NDFrame.tail of                0      1    2   3  4  5  6   7      8\n",
      "0         473876   9772    0  15  1  0  1   5      0\n",
      "1         127157   8365    0  15  1  0  1   5      0\n",
      "2         472206  14682    0  14  3  0  3   9      0\n",
      "3         236319  13379    0  14  4  0  4  12      0\n",
      "4         407922  18557    0  32  4  0  4  14      0\n",
      "...          ...    ...  ...  .. .. .. ..  ..    ...\n",
      "15841204  125359    706  719  47  0  0  0   2  43199\n",
      "15841205  414733   2103  719  14  1  0  1   3  43199\n",
      "15841206  384454  12957  719  11  3  0  3   9  43199\n",
      "15841207   26636   3423  719  13  3  0  3   9  43199\n",
      "15841208  173113  11329  719  11  4  0  4  14  43199\n",
      "\n",
      "[15841209 rows x 9 columns]>\n",
      "20000\n",
      "20000\n",
      "20000\n",
      "20000\n",
      "20000\n"
     ]
    }
   ],
   "source": [
    "level = 6\n",
    "\n",
    "\n",
    "UIT = pd.read_csv(data_path,header=None)\n",
    "\n",
    "UIT[4] = UIT[level]\n",
    "#UIT=UIT[UIT[2]<18]\n",
    "UIT[2] = UIT[8]//60\n",
    "print(UIT.tail)\n",
    "UITGroupTem = UIT.groupby(UIT[4])\n",
    "TrainGroupIndex = set(UIT[4])\n",
    "TrainGroup = []\n",
    "\n",
    "\n",
    "\n",
    "for index in TrainGroupIndex:\n",
    "    TrainGroup.append(UITGroupTem.get_group(index).reset_index(drop=True).drop([col for col in range(3,len(UIT.columns))],axis=1))\n",
    "    print(len(set(TrainGroup[0][1])))"
   ]
  },
  {
   "cell_type": "code",
   "execution_count": 4,
   "metadata": {},
   "outputs": [],
   "source": [
    "T_all = max(UIT[2])+1\n",
    "item_d = 20000"
   ]
  },
  {
   "cell_type": "code",
   "execution_count": 5,
   "metadata": {},
   "outputs": [],
   "source": [
    "Frq_hour = np.zeros((len(TrainGroupIndex),T_all,item_d))"
   ]
  },
  {
   "cell_type": "code",
   "execution_count": 6,
   "metadata": {},
   "outputs": [],
   "source": [
    "for index in TrainGroupIndex:\n",
    "    for t in range(T_all):\n",
    "        timeTrace = TrainGroup[index][TrainGroup[index][2]==t]\n",
    "        counts =  timeTrace[1].value_counts().to_frame('count')\n",
    "        for itemIndex,count in counts.iterrows():\n",
    "            Frq_hour[index, t,itemIndex] = count['count']/timeTrace.shape[0]"
   ]
  },
  {
   "cell_type": "code",
   "execution_count": 7,
   "metadata": {},
   "outputs": [],
   "source": [
    "trainX_list = []\n",
    "trainY_list =[]\n",
    "testX_list =[]\n",
    "#testY_list=[]"
   ]
  },
  {
   "cell_type": "code",
   "execution_count": 9,
   "metadata": {
    "jupyter": {
     "source_hidden": true
    }
   },
   "outputs": [],
   "source": [
    "m = 20\n",
    "k = 26\n",
    "trainTime = 24*12\n",
    "testTime = 24*6\n",
    "fold = 0"
   ]
  },
  {
   "cell_type": "code",
   "execution_count": null,
   "metadata": {
    "jupyter": {
     "source_hidden": true
    }
   },
   "outputs": [],
   "source": [
    "for index in TrainGroupIndex:\n",
    "    trainX_list = []\n",
    "    trainY_list =[]\n",
    "    testX_list =[]\n",
    "    testY_list=[]\n",
    "    for t in range(trainTime-k-m):\n",
    "        trainX_list.append(Frq_hour[index].T[:,t:t+m])\n",
    "        trainY_list.append(Frq_hour[index].T[:,t+m:t+m+k])\n",
    "    trainX = np.concatenate(np.array(trainX_list),axis = 0)\n",
    "    trainY = np.concatenate(np.array(trainY_list),axis = 0)\n",
    "    for t in range(trainTime-m,trainTime+testTime-m):\n",
    "        testX_list.append(Frq_hour[index].T[:,t:t+m])\n",
    "        #testY_list.append(Frq_hour[index].T[:,t+m:t+m+k])\n",
    "    testX = np.concatenate(np.array(testX_list),axis = 0)\n",
    "    #testY = np.concatenate(np.array(testY_list),axis = 0)\n",
    "    np.savetxt(\"fold{}_city{}_trainX.csv\".format(fold,index), trainX, delimiter=\",\")\n",
    "    np.savetxt(\"fold{}_city{}_trainY.csv\".format(fold,index), trainY, delimiter=\",\")\n",
    "    np.savetxt(\"fold{}_city{}_testX.csv\".format(fold,index), testX, delimiter=\",\")\n",
    "    #np.savetxt(\"fold{}_city{}_testY.csv\".format(fold,index), testY, delimiter=\",\")"
   ]
  },
  {
   "cell_type": "code",
   "execution_count": null,
   "metadata": {
    "jupyter": {
     "source_hidden": true
    }
   },
   "outputs": [],
   "source": [
    "m = 20\n",
    "k = 26\n",
    "trainTime = 24*18\n",
    "testTime = 24*6\n",
    "fold = 1"
   ]
  },
  {
   "cell_type": "code",
   "execution_count": null,
   "metadata": {
    "jupyter": {
     "source_hidden": true
    }
   },
   "outputs": [],
   "source": [
    "for index in TrainGroupIndex:\n",
    "    trainX_list = []\n",
    "    trainY_list =[]\n",
    "    testX_list =[]\n",
    "    testY_list=[]\n",
    "    for t in range(trainTime-k-m):\n",
    "        trainX_list.append(Frq_hour[index].T[:,t:t+m])\n",
    "        trainY_list.append(Frq_hour[index].T[:,t+m:t+m+k])\n",
    "    trainX = np.concatenate(np.array(trainX_list),axis = 0)\n",
    "    trainY = np.concatenate(np.array(trainY_list),axis = 0)\n",
    "    for t in range(trainTime-m,trainTime+testTime-m):\n",
    "        testX_list.append(Frq_hour[index].T[:,t:t+m])\n",
    "        #testY_list.append(Frq_hour[index].T[:,t+m:t+m+k])\n",
    "    testX = np.concatenate(np.array(testX_list),axis = 0)\n",
    "    #testY = np.concatenate(np.array(testY_list),axis = 0)\n",
    "    np.savetxt(\"fold{}_city{}_trainX.csv\".format(fold,index), trainX, delimiter=\",\")\n",
    "    np.savetxt(\"fold{}_city{}_trainY.csv\".format(fold,index), trainY, delimiter=\",\")\n",
    "    np.savetxt(\"fold{}_city{}_testX.csv\".format(fold,index), testX, delimiter=\",\")\n",
    "    #np.savetxt(\"fold{}_city{}_testY.csv\".format(fold,index), testY, delimiter=\",\")"
   ]
  },
  {
   "cell_type": "code",
   "execution_count": 8,
   "metadata": {},
   "outputs": [],
   "source": [
    "m = 20\n",
    "k = 26\n",
    "trainTime = 24*24\n",
    "testTime = 24*6\n",
    "fold = 2"
   ]
  },
  {
   "cell_type": "code",
   "execution_count": 9,
   "metadata": {},
   "outputs": [],
   "source": [
    "for index in TrainGroupIndex:\n",
    "    trainX_list = []\n",
    "    trainY_list =[]\n",
    "    testX_list =[]\n",
    "    testY_list=[]\n",
    "    for t in range(trainTime-k-m):\n",
    "        trainX_list.append(Frq_hour[index].T[:,t:t+m])\n",
    "        trainY_list.append(Frq_hour[index].T[:,t+m:t+m+k])\n",
    "    trainX = np.concatenate(np.array(trainX_list),axis = 0)\n",
    "    trainY = np.concatenate(np.array(trainY_list),axis = 0)\n",
    "    for t in range(trainTime-m,trainTime+testTime-m):\n",
    "        testX_list.append(Frq_hour[index].T[:,t:t+m])\n",
    "        #testY_list.append(Frq_hour[index].T[:,t+m:t+m+k])\n",
    "    testX = np.concatenate(np.array(testX_list),axis = 0)\n",
    "    #testY = np.concatenate(np.array(testY_list),axis = 0)\n",
    "    np.savetxt(\"fold{}_city{}_trainX.csv\".format(fold,index), trainX, delimiter=\",\")\n",
    "    np.savetxt(\"fold{}_city{}_trainY.csv\".format(fold,index), trainY, delimiter=\",\")\n",
    "    np.savetxt(\"fold{}_city{}_testX.csv\".format(fold,index), testX, delimiter=\",\")\n",
    "    #np.savetxt(\"fold{}_city{}_testY.csv\".format(fold,index), testY, delimiter=\",\")"
   ]
  },
  {
   "cell_type": "code",
   "execution_count": 214,
   "metadata": {},
   "outputs": [
    {
     "data": {
      "text/plain": [
       "4"
      ]
     },
     "execution_count": 214,
     "metadata": {},
     "output_type": "execute_result"
    }
   ],
   "source": [
    "trainX\n",
    "index"
   ]
  },
  {
   "cell_type": "code",
   "execution_count": 216,
   "metadata": {},
   "outputs": [],
   "source": [
    "np.savetxt(\"fold{}_city{}_trainX.csv\".format(fold,index), trainX, delimiter=\",\")"
   ]
  },
  {
   "cell_type": "code",
   "execution_count": 196,
   "metadata": {},
   "outputs": [],
   "source": [
    "trainX.append(Frq_hour[0].T[:,0:20])"
   ]
  },
  {
   "cell_type": "code",
   "execution_count": 192,
   "metadata": {},
   "outputs": [
    {
     "data": {
      "text/plain": [
       "(20000, 20)"
      ]
     },
     "execution_count": 192,
     "metadata": {},
     "output_type": "execute_result"
    }
   ],
   "source": [
    "trainX.shape"
   ]
  },
  {
   "cell_type": "code",
   "execution_count": 197,
   "metadata": {},
   "outputs": [],
   "source": [
    "trainX.append(Frq_hour[0].T[:,1:21])"
   ]
  },
  {
   "cell_type": "code",
   "execution_count": 204,
   "metadata": {},
   "outputs": [
    {
     "data": {
      "text/plain": [
       "(2, 20000, 20)"
      ]
     },
     "execution_count": 204,
     "metadata": {},
     "output_type": "execute_result"
    }
   ],
   "source": [
    "np.array(trainX).shape"
   ]
  },
  {
   "cell_type": "code",
   "execution_count": 203,
   "metadata": {},
   "outputs": [
    {
     "data": {
      "text/plain": [
       "(40000, 20)"
      ]
     },
     "execution_count": 203,
     "metadata": {},
     "output_type": "execute_result"
    }
   ],
   "source": [
    "np.concatenate(np.array(trainX),axis = 0).shape"
   ]
  },
  {
   "cell_type": "code",
   "execution_count": null,
   "metadata": {},
   "outputs": [],
   "source": []
  }
 ],
 "metadata": {
  "kernelspec": {
   "display_name": "Python 3",
   "language": "python",
   "name": "python3"
  },
  "language_info": {
   "codemirror_mode": {
    "name": "ipython",
    "version": 3
   },
   "file_extension": ".py",
   "mimetype": "text/x-python",
   "name": "python",
   "nbconvert_exporter": "python",
   "pygments_lexer": "ipython3",
   "version": "3.7.8"
  }
 },
 "nbformat": 4,
 "nbformat_minor": 4
}
