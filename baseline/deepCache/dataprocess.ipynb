{
 "cells": [
  {
   "cell_type": "code",
   "execution_count": 1,
   "source": [
    "import torch\n",
    "import torch.nn as nn\n",
    "import torch.optim as optim\n",
    "\n",
    "#from torchtext.datasets import Multi30k\n",
    "#from torchtext.data import Field, BucketIterator\n",
    "\n",
    "#import spacy\n",
    "import numpy as np\n",
    "\n",
    "import random\n",
    "import math\n",
    "import time\n",
    "\n",
    "\n",
    "import pandas as pd\n",
    "SEED = 1234\n",
    "random.seed(SEED)\n",
    "np.random.seed(SEED)\n",
    "torch.manual_seed(SEED)\n",
    "torch.cuda.manual_seed(SEED)\n",
    "torch.backends.cudnn.deterministic = True"
   ],
   "outputs": [],
   "metadata": {}
  },
  {
   "cell_type": "code",
   "execution_count": 8,
   "source": [
    "np.set_printoptions(threshold=3000)  \n",
    "np.set_printoptions(linewidth=170)\n",
    "\n",
    "#data_path = '/home/zhangxz/workspace/data/R1584_U50_V2/UIT.csv'\n",
    "data_path = '/home/ubuntu/data/dataset/R3009_U5_V100/'\n",
    "UIT = pd.read_csv(data_path + 'UIT.csv',header=None)\n",
    "UIT"
   ],
   "outputs": [
    {
     "output_type": "execute_result",
     "data": {
      "text/html": [
       "<div>\n",
       "<style scoped>\n",
       "    .dataframe tbody tr th:only-of-type {\n",
       "        vertical-align: middle;\n",
       "    }\n",
       "\n",
       "    .dataframe tbody tr th {\n",
       "        vertical-align: top;\n",
       "    }\n",
       "\n",
       "    .dataframe thead th {\n",
       "        text-align: right;\n",
       "    }\n",
       "</style>\n",
       "<table border=\"1\" class=\"dataframe\">\n",
       "  <thead>\n",
       "    <tr style=\"text-align: right;\">\n",
       "      <th></th>\n",
       "      <th>0</th>\n",
       "      <th>1</th>\n",
       "      <th>2</th>\n",
       "      <th>3</th>\n",
       "      <th>4</th>\n",
       "      <th>5</th>\n",
       "      <th>6</th>\n",
       "      <th>7</th>\n",
       "      <th>8</th>\n",
       "      <th>9</th>\n",
       "      <th>10</th>\n",
       "      <th>11</th>\n",
       "    </tr>\n",
       "  </thead>\n",
       "  <tbody>\n",
       "    <tr>\n",
       "      <th>0</th>\n",
       "      <td>365</td>\n",
       "      <td>3391</td>\n",
       "      <td>0</td>\n",
       "      <td>0</td>\n",
       "      <td>148</td>\n",
       "      <td>1030</td>\n",
       "      <td>101001</td>\n",
       "      <td>0</td>\n",
       "      <td>0</td>\n",
       "      <td>11807</td>\n",
       "      <td>1</td>\n",
       "      <td>2</td>\n",
       "    </tr>\n",
       "    <tr>\n",
       "      <th>1</th>\n",
       "      <td>203</td>\n",
       "      <td>5779</td>\n",
       "      <td>0</td>\n",
       "      <td>0</td>\n",
       "      <td>7</td>\n",
       "      <td>1030</td>\n",
       "      <td>10203</td>\n",
       "      <td>0</td>\n",
       "      <td>0</td>\n",
       "      <td>15068</td>\n",
       "      <td>1</td>\n",
       "      <td>2</td>\n",
       "    </tr>\n",
       "    <tr>\n",
       "      <th>2</th>\n",
       "      <td>208</td>\n",
       "      <td>4675</td>\n",
       "      <td>0</td>\n",
       "      <td>0</td>\n",
       "      <td>92</td>\n",
       "      <td>1035</td>\n",
       "      <td>10203</td>\n",
       "      <td>0</td>\n",
       "      <td>0</td>\n",
       "      <td>5375</td>\n",
       "      <td>1</td>\n",
       "      <td>2</td>\n",
       "    </tr>\n",
       "    <tr>\n",
       "      <th>3</th>\n",
       "      <td>159</td>\n",
       "      <td>332</td>\n",
       "      <td>0</td>\n",
       "      <td>0</td>\n",
       "      <td>56</td>\n",
       "      <td>1030</td>\n",
       "      <td>10202</td>\n",
       "      <td>0</td>\n",
       "      <td>0</td>\n",
       "      <td>5992</td>\n",
       "      <td>1</td>\n",
       "      <td>2</td>\n",
       "    </tr>\n",
       "    <tr>\n",
       "      <th>4</th>\n",
       "      <td>50</td>\n",
       "      <td>674</td>\n",
       "      <td>0</td>\n",
       "      <td>0</td>\n",
       "      <td>439</td>\n",
       "      <td>1030</td>\n",
       "      <td>10203</td>\n",
       "      <td>0</td>\n",
       "      <td>0</td>\n",
       "      <td>3468</td>\n",
       "      <td>1</td>\n",
       "      <td>2</td>\n",
       "    </tr>\n",
       "    <tr>\n",
       "      <th>...</th>\n",
       "      <td>...</td>\n",
       "      <td>...</td>\n",
       "      <td>...</td>\n",
       "      <td>...</td>\n",
       "      <td>...</td>\n",
       "      <td>...</td>\n",
       "      <td>...</td>\n",
       "      <td>...</td>\n",
       "      <td>...</td>\n",
       "      <td>...</td>\n",
       "      <td>...</td>\n",
       "      <td>...</td>\n",
       "    </tr>\n",
       "    <tr>\n",
       "      <th>300978</th>\n",
       "      <td>483</td>\n",
       "      <td>6831</td>\n",
       "      <td>29</td>\n",
       "      <td>2591880</td>\n",
       "      <td>34</td>\n",
       "      <td>1030</td>\n",
       "      <td>10203</td>\n",
       "      <td>0</td>\n",
       "      <td>0</td>\n",
       "      <td>10010</td>\n",
       "      <td>1</td>\n",
       "      <td>2</td>\n",
       "    </tr>\n",
       "    <tr>\n",
       "      <th>300979</th>\n",
       "      <td>158</td>\n",
       "      <td>8448</td>\n",
       "      <td>29</td>\n",
       "      <td>2591880</td>\n",
       "      <td>34</td>\n",
       "      <td>1030</td>\n",
       "      <td>10203</td>\n",
       "      <td>0</td>\n",
       "      <td>0</td>\n",
       "      <td>23340</td>\n",
       "      <td>1</td>\n",
       "      <td>2</td>\n",
       "    </tr>\n",
       "    <tr>\n",
       "      <th>300980</th>\n",
       "      <td>483</td>\n",
       "      <td>6463</td>\n",
       "      <td>29</td>\n",
       "      <td>2591940</td>\n",
       "      <td>35</td>\n",
       "      <td>1030</td>\n",
       "      <td>10203</td>\n",
       "      <td>0</td>\n",
       "      <td>0</td>\n",
       "      <td>10010</td>\n",
       "      <td>1</td>\n",
       "      <td>2</td>\n",
       "    </tr>\n",
       "    <tr>\n",
       "      <th>300981</th>\n",
       "      <td>158</td>\n",
       "      <td>4715</td>\n",
       "      <td>29</td>\n",
       "      <td>2591940</td>\n",
       "      <td>34</td>\n",
       "      <td>1030</td>\n",
       "      <td>10203</td>\n",
       "      <td>0</td>\n",
       "      <td>0</td>\n",
       "      <td>23340</td>\n",
       "      <td>1</td>\n",
       "      <td>2</td>\n",
       "    </tr>\n",
       "    <tr>\n",
       "      <th>300982</th>\n",
       "      <td>483</td>\n",
       "      <td>2021</td>\n",
       "      <td>29</td>\n",
       "      <td>2591940</td>\n",
       "      <td>34</td>\n",
       "      <td>1030</td>\n",
       "      <td>10203</td>\n",
       "      <td>0</td>\n",
       "      <td>0</td>\n",
       "      <td>10010</td>\n",
       "      <td>1</td>\n",
       "      <td>2</td>\n",
       "    </tr>\n",
       "  </tbody>\n",
       "</table>\n",
       "<p>300983 rows × 12 columns</p>\n",
       "</div>"
      ],
      "text/plain": [
       "         0     1   2        3    4     5       6   7   8      9   10  11\n",
       "0       365  3391   0        0  148  1030  101001   0   0  11807   1   2\n",
       "1       203  5779   0        0    7  1030   10203   0   0  15068   1   2\n",
       "2       208  4675   0        0   92  1035   10203   0   0   5375   1   2\n",
       "3       159   332   0        0   56  1030   10202   0   0   5992   1   2\n",
       "4        50   674   0        0  439  1030   10203   0   0   3468   1   2\n",
       "...     ...   ...  ..      ...  ...   ...     ...  ..  ..    ...  ..  ..\n",
       "300978  483  6831  29  2591880   34  1030   10203   0   0  10010   1   2\n",
       "300979  158  8448  29  2591880   34  1030   10203   0   0  23340   1   2\n",
       "300980  483  6463  29  2591940   35  1030   10203   0   0  10010   1   2\n",
       "300981  158  4715  29  2591940   34  1030   10203   0   0  23340   1   2\n",
       "300982  483  2021  29  2591940   34  1030   10203   0   0  10010   1   2\n",
       "\n",
       "[300983 rows x 12 columns]"
      ]
     },
     "metadata": {},
     "execution_count": 8
    }
   ],
   "metadata": {}
  },
  {
   "cell_type": "code",
   "execution_count": 3,
   "source": [
    "level = 7\n",
    "\n",
    "\n",
    "#UIT[4] = UIT[level]\n",
    "#UIT=UIT[UIT[2]<18]\n",
    "UIT[2] = UIT[3]//(60*60)\n",
    "print(UIT.tail)\n",
    "UITGroupTem = UIT.groupby(UIT[7])\n",
    "TrainGroupIndex = set(UIT[7])\n",
    "TrainGroup = []\n",
    "\n",
    "\n",
    "\n",
    "for index in TrainGroupIndex:\n",
    "    TrainGroup.append(UITGroupTem.get_group(index).reset_index(drop=True).drop([col for col in range(3,len(UIT.columns))],axis=1))\n",
    "    print(len(set(TrainGroup[0][1])))"
   ],
   "outputs": [
    {
     "output_type": "stream",
     "name": "stdout",
     "text": [
      "<bound method NDFrame.tail of          0     1    2        3    4     5       6   7   8      9   10  11\n",
      "0       365  3391    0        0  148  1030  101001   0   0  11807   1   2\n",
      "1       203  5779    0        0    7  1030   10203   0   0  15068   1   2\n",
      "2       208  4675    0        0   92  1035   10203   0   0   5375   1   2\n",
      "3       159   332    0        0   56  1030   10202   0   0   5992   1   2\n",
      "4        50   674    0        0  439  1030   10203   0   0   3468   1   2\n",
      "...     ...   ...  ...      ...  ...   ...     ...  ..  ..    ...  ..  ..\n",
      "300978  483  6831  719  2591880   34  1030   10203   0   0  10010   1   2\n",
      "300979  158  8448  719  2591880   34  1030   10203   0   0  23340   1   2\n",
      "300980  483  6463  719  2591940   35  1030   10203   0   0  10010   1   2\n",
      "300981  158  4715  719  2591940   34  1030   10203   0   0  23340   1   2\n",
      "300982  483  2021  719  2591940   34  1030   10203   0   0  10010   1   2\n",
      "\n",
      "[300983 rows x 12 columns]>\n",
      "10000\n"
     ]
    }
   ],
   "metadata": {}
  },
  {
   "cell_type": "code",
   "execution_count": 5,
   "source": [
    "T_all = max(UIT[2])+1\n",
    "item_d = 10000\n",
    "T_all"
   ],
   "outputs": [
    {
     "output_type": "execute_result",
     "data": {
      "text/plain": [
       "720"
      ]
     },
     "metadata": {},
     "execution_count": 5
    }
   ],
   "metadata": {}
  },
  {
   "cell_type": "code",
   "execution_count": 6,
   "source": [
    "Frq_hour = np.zeros((len(TrainGroupIndex),T_all,item_d))"
   ],
   "outputs": [],
   "metadata": {}
  },
  {
   "cell_type": "code",
   "execution_count": 7,
   "source": [
    "for index in TrainGroupIndex:\n",
    "    for t in range(T_all):\n",
    "        timeTrace = TrainGroup[index][TrainGroup[index][2]==t]\n",
    "        counts =  timeTrace[1].value_counts().to_frame('count')\n",
    "        for itemIndex,count in counts.iterrows():\n",
    "            Frq_hour[index, t,itemIndex] = count['count']/timeTrace.shape[0]"
   ],
   "outputs": [],
   "metadata": {}
  },
  {
   "cell_type": "code",
   "execution_count": 8,
   "source": [
    "trainX_list = []\n",
    "trainY_list =[]\n",
    "testX_list =[]\n",
    "#testY_list=[]"
   ],
   "outputs": [],
   "metadata": {}
  },
  {
   "cell_type": "code",
   "execution_count": 9,
   "source": [
    "m = 20\n",
    "k = 26\n",
    "trainTime = 24*12\n",
    "testTime = 24*6\n",
    "fold = 0"
   ],
   "outputs": [],
   "metadata": {}
  },
  {
   "cell_type": "code",
   "execution_count": 17,
   "source": [
    "for index in TrainGroupIndex:\n",
    "    trainX_list = []\n",
    "    trainY_list =[]\n",
    "    testX_list =[]\n",
    "    testY_list=[]\n",
    "    for t in range(trainTime-k-m):\n",
    "        trainX_list.append(Frq_hour[index].T[:,t:t+m])\n",
    "        trainY_list.append(Frq_hour[index].T[:,t+m:t+m+k])\n",
    "    trainX = np.concatenate(np.array(trainX_list),axis = 0)\n",
    "    trainY = np.concatenate(np.array(trainY_list),axis = 0)\n",
    "    for t in range(trainTime-m,trainTime+testTime-m):\n",
    "        testX_list.append(Frq_hour[index].T[:,t:t+m])\n",
    "        #testY_list.append(Frq_hour[index].T[:,t+m:t+m+k])\n",
    "    testX = np.concatenate(np.array(testX_list),axis = 0)\n",
    "    #testY = np.concatenate(np.array(testY_list),axis = 0)\n",
    "    np.savetxt(\"fold{}_city{}_trainX.csv\".format(fold,index), trainX, delimiter=\",\")\n",
    "    np.savetxt(\"fold{}_city{}_trainY.csv\".format(fold,index), trainY, delimiter=\",\")\n",
    "    np.savetxt(\"fold{}_city{}_testX.csv\".format(fold,index), testX, delimiter=\",\")\n",
    "    #np.savetxt(\"fold{}_city{}_testY.csv\".format(fold,index), testY, delimiter=\",\")"
   ],
   "outputs": [],
   "metadata": {}
  },
  {
   "cell_type": "code",
   "execution_count": 18,
   "source": [
    "m = 20\n",
    "k = 26\n",
    "trainTime = 24*18\n",
    "testTime = 24*6\n",
    "fold = 1"
   ],
   "outputs": [],
   "metadata": {}
  },
  {
   "cell_type": "code",
   "execution_count": 19,
   "source": [
    "for index in TrainGroupIndex:\n",
    "    trainX_list = []\n",
    "    trainY_list =[]\n",
    "    testX_list =[]\n",
    "    testY_list=[]\n",
    "    for t in range(trainTime-k-m):\n",
    "        trainX_list.append(Frq_hour[index].T[:,t:t+m])\n",
    "        trainY_list.append(Frq_hour[index].T[:,t+m:t+m+k])\n",
    "    trainX = np.concatenate(np.array(trainX_list),axis = 0)\n",
    "    trainY = np.concatenate(np.array(trainY_list),axis = 0)\n",
    "    for t in range(trainTime-m,trainTime+testTime-m):\n",
    "        testX_list.append(Frq_hour[index].T[:,t:t+m])\n",
    "        #testY_list.append(Frq_hour[index].T[:,t+m:t+m+k])\n",
    "    testX = np.concatenate(np.array(testX_list),axis = 0)\n",
    "    #testY = np.concatenate(np.array(testY_list),axis = 0)\n",
    "    np.savetxt(\"fold{}_city{}_trainX.csv\".format(fold,index), trainX, delimiter=\",\")\n",
    "    np.savetxt(\"fold{}_city{}_trainY.csv\".format(fold,index), trainY, delimiter=\",\")\n",
    "    np.savetxt(\"fold{}_city{}_testX.csv\".format(fold,index), testX, delimiter=\",\")\n",
    "    #np.savetxt(\"fold{}_city{}_testY.csv\".format(fold,index), testY, delimiter=\",\")"
   ],
   "outputs": [],
   "metadata": {}
  },
  {
   "cell_type": "code",
   "execution_count": 9,
   "source": [
    "m = 20\n",
    "k = 26\n",
    "trainTime = 24*24\n",
    "testTime = 24*6\n",
    "fold = 2"
   ],
   "outputs": [],
   "metadata": {}
  },
  {
   "cell_type": "code",
   "execution_count": 11,
   "source": [
    "for index in TrainGroupIndex:\n",
    "    trainX_list = []\n",
    "    trainY_list =[]\n",
    "    testX_list =[]\n",
    "    testY_list=[]\n",
    "    for t in range(trainTime-k-m):\n",
    "        trainX_list.append(Frq_hour[index].T[:,t:t+m])\n",
    "        trainY_list.append(Frq_hour[index].T[:,t+m:t+m+k])\n",
    "    trainX = np.concatenate(np.array(trainX_list),axis = 0)\n",
    "    trainY = np.concatenate(np.array(trainY_list),axis = 0)\n",
    "    for t in range(trainTime-k-m,trainTime+testTime-k-m):\n",
    "        testX_list.append(Frq_hour[index].T[:,t:t+m])\n",
    "        testY_list.append(Frq_hour[index].T[:,t+m:t+m+k])\n",
    "    testX = np.concatenate(np.array(testX_list),axis = 0)\n",
    "    testY = np.concatenate(np.array(testY_list),axis = 0)\n",
    "    np.savetxt(\"fold{}_city{}_trainX.csv\".format(fold,index), trainX, delimiter=\",\")\n",
    "    np.savetxt(\"fold{}_city{}_trainY.csv\".format(fold,index), trainY, delimiter=\",\")\n",
    "    np.savetxt(\"fold{}_city{}_testX.csv\".format(fold,index), testX, delimiter=\",\")\n",
    "    np.savetxt(\"fold{}_city{}_testY.csv\".format(fold,index), testY, delimiter=\",\")"
   ],
   "outputs": [],
   "metadata": {}
  },
  {
   "cell_type": "code",
   "execution_count": 14,
   "source": [
    "len(trainX_list)"
   ],
   "outputs": [
    {
     "output_type": "execute_result",
     "data": {
      "text/plain": [
       "530"
      ]
     },
     "metadata": {},
     "execution_count": 14
    }
   ],
   "metadata": {}
  },
  {
   "cell_type": "code",
   "execution_count": 216,
   "source": [
    "np.savetxt(\"fold{}_city{}_trainX.csv\".format(fold,index), trainX, delimiter=\",\")"
   ],
   "outputs": [],
   "metadata": {}
  },
  {
   "cell_type": "code",
   "execution_count": 196,
   "source": [
    "trainX.append(Frq_hour[0].T[:,0:20])"
   ],
   "outputs": [],
   "metadata": {}
  },
  {
   "cell_type": "code",
   "execution_count": 192,
   "source": [
    "trainX.shape"
   ],
   "outputs": [
    {
     "output_type": "execute_result",
     "data": {
      "text/plain": [
       "(20000, 20)"
      ]
     },
     "metadata": {},
     "execution_count": 192
    }
   ],
   "metadata": {}
  },
  {
   "cell_type": "code",
   "execution_count": 197,
   "source": [
    "trainX.append(Frq_hour[0].T[:,1:21])"
   ],
   "outputs": [],
   "metadata": {}
  },
  {
   "cell_type": "code",
   "execution_count": 204,
   "source": [
    "np.array(trainX).shape"
   ],
   "outputs": [
    {
     "output_type": "execute_result",
     "data": {
      "text/plain": [
       "(2, 20000, 20)"
      ]
     },
     "metadata": {},
     "execution_count": 204
    }
   ],
   "metadata": {}
  },
  {
   "cell_type": "code",
   "execution_count": 203,
   "source": [
    "np.concatenate(np.array(trainX),axis = 0).shape"
   ],
   "outputs": [
    {
     "output_type": "execute_result",
     "data": {
      "text/plain": [
       "(40000, 20)"
      ]
     },
     "metadata": {},
     "execution_count": 203
    }
   ],
   "metadata": {}
  },
  {
   "cell_type": "code",
   "execution_count": null,
   "source": [],
   "outputs": [],
   "metadata": {}
  }
 ],
 "metadata": {
  "kernelspec": {
   "name": "python3",
   "display_name": "Python 3.8.8 64-bit ('py38': conda)"
  },
  "language_info": {
   "codemirror_mode": {
    "name": "ipython",
    "version": 3
   },
   "file_extension": ".py",
   "mimetype": "text/x-python",
   "name": "python",
   "nbconvert_exporter": "python",
   "pygments_lexer": "ipython3",
   "version": "3.8.8"
  },
  "interpreter": {
   "hash": "53e075add4fc865efaed3001cae69f5b66291fd877e6c0fafb5013552ba051ca"
  }
 },
 "nbformat": 4,
 "nbformat_minor": 4
}